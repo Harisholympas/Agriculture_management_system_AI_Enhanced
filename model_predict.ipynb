{
 "cells": [
  {
   "cell_type": "code",
   "execution_count": 8,
   "metadata": {},
   "outputs": [],
   "source": [
    "import numpy as np\n",
    "from tensorflow.keras.models import load_model\n",
    "import pickle"
   ]
  },
  {
   "cell_type": "code",
   "execution_count": 9,
   "metadata": {},
   "outputs": [
    {
     "name": "stderr",
     "output_type": "stream",
     "text": [
      "WARNING:absl:Compiled the loaded model, but the compiled metrics have yet to be built. `model.compile_metrics` will be empty until you train or evaluate the model.\n"
     ]
    }
   ],
   "source": [
    "model = load_model(r'D:\\Prabha\\agri project\\my_model.h5')"
   ]
  },
  {
   "cell_type": "code",
   "execution_count": 10,
   "metadata": {},
   "outputs": [],
   "source": [
    "# Load the scaler used during training\n",
    "with open('scaler.pkl', 'rb') as f:\n",
    "    scaler = pickle.load(f)\n"
   ]
  },
  {
   "cell_type": "code",
   "execution_count": 11,
   "metadata": {},
   "outputs": [],
   "source": [
    "def get_user_input():\n",
    "    try:\n",
    "        nitrogen_label = input(\"Enter Nitrogen (N) level (1 for low, 2 for medium, 3 for high): \")\n",
    "        phosphorus_label = input(\"Enter Phosphorus (P) level (1 for low, 2 for medium, 3 for high): \")\n",
    "        potassium_label = input(\"Enter Potassium (K) level (1 for low, 2 for medium, 3 for high): \")\n",
    "        calcium_label = input(\"Enter Calcium (Ca) level (1 for low, 2 for medium, 3 for high): \")\n",
    "        magnesium_label = input(\"Enter Magnesium (Mg) level (1 for low, 2 for medium, 3 for high): \")\n",
    "        sulfur_label = input(\"Enter Sulfur (S) level (1 for low, 2 for medium, 3 for high): \")\n",
    "        ph = float(input(\"Enter pH Level: \"))\n",
    "\n",
    "        user_input = [\n",
    "            int(nitrogen_label),\n",
    "            int(phosphorus_label),\n",
    "            int(potassium_label),\n",
    "            int(calcium_label),\n",
    "            int(magnesium_label),\n",
    "            int(sulfur_label),\n",
    "            ph\n",
    "        ]\n",
    "\n",
    "        return user_input\n",
    "    except ValueError:\n",
    "        print(\"Invalid input. Please enter a valid number.\")\n",
    "        return None\n"
   ]
  },
  {
   "cell_type": "code",
   "execution_count": 12,
   "metadata": {},
   "outputs": [],
   "source": [
    "def preprocess_input(user_input):\n",
    "    if scaler is not None:\n",
    "        user_input_array = np.array(user_input).reshape(1, -1)\n",
    "        user_input_scaled = scaler.transform(user_input_array)\n",
    "        return user_input_scaled\n",
    "    else:\n",
    "        raise Exception(\"Scaler not loaded. Cannot preprocess input.\")\n",
    "\n",
    "def predict_crop(user_input_scaled):\n",
    "    prediction = model.predict(user_input_scaled)\n",
    "    crop_index = np.argmax(prediction, axis=1)\n",
    "    return crop_index\n",
    "\n",
    "def get_crop_name(crop_index):\n",
    "    crop_labels = ['Beetroot', 'Carrots', 'Maize (Corn)', 'Onions', 'Potatoes', 'Rice', 'Soybeans', 'Sugarcane', 'Tomatoes', 'Wheat']\n",
    "    crop_name = crop_labels[crop_index[0]]\n",
    "    return crop_name\n"
   ]
  },
  {
   "cell_type": "code",
   "execution_count": 13,
   "metadata": {},
   "outputs": [
    {
     "name": "stdout",
     "output_type": "stream",
     "text": [
      "\u001b[1m1/1\u001b[0m \u001b[32m━━━━━━━━━━━━━━━━━━━━\u001b[0m\u001b[37m\u001b[0m \u001b[1m0s\u001b[0m 49ms/step\n",
      "The recommended crop is: Potatoes\n"
     ]
    },
    {
     "name": "stderr",
     "output_type": "stream",
     "text": [
      "c:\\Users\\aksha\\AppData\\Local\\Programs\\Python\\Python312\\Lib\\site-packages\\sklearn\\base.py:493: UserWarning: X does not have valid feature names, but StandardScaler was fitted with feature names\n",
      "  warnings.warn(\n"
     ]
    }
   ],
   "source": [
    "def main():\n",
    "    user_input = get_user_input()\n",
    "    if user_input is not None:\n",
    "        user_input_scaled = preprocess_input(user_input)\n",
    "        crop_index = predict_crop(user_input_scaled)\n",
    "        crop_name = get_crop_name(crop_index)\n",
    "        print(f\"The recommended crop is: {crop_name}\")\n",
    "\n",
    "if __name__ == \"__main__\":\n",
    "    main()\n"
   ]
  },
  {
   "cell_type": "code",
   "execution_count": null,
   "metadata": {},
   "outputs": [],
   "source": []
  }
 ],
 "metadata": {
  "kernelspec": {
   "display_name": "Python 3",
   "language": "python",
   "name": "python3"
  },
  "language_info": {
   "codemirror_mode": {
    "name": "ipython",
    "version": 3
   },
   "file_extension": ".py",
   "mimetype": "text/x-python",
   "name": "python",
   "nbconvert_exporter": "python",
   "pygments_lexer": "ipython3",
   "version": "3.12.4"
  }
 },
 "nbformat": 4,
 "nbformat_minor": 2
}
